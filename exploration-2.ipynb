{
 "cells": [
  {
   "cell_type": "code",
   "execution_count": 1,
   "metadata": {},
   "outputs": [],
   "source": [
    "import os\n",
    "import requests\n",
    "import json\n",
    "import time\n",
    "import re\n",
    "\n",
    "import pandas as pd\n",
    "import polyline\n",
    "import matplotlib.pyplot as plt"
   ]
  },
  {
   "cell_type": "code",
   "execution_count": 2,
   "metadata": {},
   "outputs": [],
   "source": [
    "TOKENS_FILEPATH = os.getenv(\"TOKENS_FILEPATH\")\n",
    "CLIENT_ID = os.getenv(\"CLIENT_ID\")\n",
    "CLIENT_SECRET = os.getenv(\"CLIENT_SECRET\")"
   ]
  },
  {
   "cell_type": "code",
   "execution_count": 3,
   "metadata": {},
   "outputs": [],
   "source": [
    "def get_tokens(client_id, client_secret, tokens_filepath):\n",
    "    \"\"\" Gets the Strava tokens from a json file and refreshes them if expired \"\"\"\n",
    "    \n",
    "    # Get the tokens from file to connect to Strava\n",
    "    with open(tokens_filepath) as json_file:\n",
    "        strava_tokens = json.load(json_file)\n",
    "\n",
    "    # If access_token has expired then use the refresh_token to get the new access_token\n",
    "    if strava_tokens['expires_at'] < time.time():\n",
    "\n",
    "        #Make Strava auth API call with current refresh token\n",
    "        response = requests.post(\n",
    "                            url = 'https://www.strava.com/oauth/token',\n",
    "                            data = {\n",
    "                                    'client_id': int(client_id),\n",
    "                                    'client_secret': client_secret,\n",
    "                                    'grant_type': 'refresh_token',\n",
    "                                    'refresh_token': strava_tokens['refresh_token']\n",
    "                                    }\n",
    "                        )\n",
    "\n",
    "        #Save response as json in new variable\n",
    "        new_strava_tokens = response.json()\n",
    "\n",
    "        # Save new tokens to file\n",
    "        with open(tokens_filepath, 'w') as outfile:\n",
    "            json.dump(new_strava_tokens, outfile)\n",
    "\n",
    "        #Use new Strava tokens from now\n",
    "        strava_tokens = new_strava_tokens \n",
    "    \n",
    "    return strava_tokens"
   ]
  },
  {
   "cell_type": "code",
   "execution_count": 4,
   "metadata": {},
   "outputs": [],
   "source": [
    "strava_tokens = get_tokens(CLIENT_ID, CLIENT_SECRET, TOKENS_FILEPATH)"
   ]
  },
  {
   "cell_type": "code",
   "execution_count": 5,
   "metadata": {},
   "outputs": [],
   "source": [
    "def plot_polyline(summary_polyline):\n",
    "    \"\"\" Plots a segment or a route from a polyline object \"\"\"\n",
    "\n",
    "    coordinates = polyline.decode(summary_polyline)\n",
    "\n",
    "    ride_longitudes = [coordinate[1] for coordinate in coordinates]\n",
    "    ride_latitudes = [coordinate[0] for coordinate in coordinates]\n",
    "\n",
    "    plt.plot(ride_longitudes, ride_latitudes, 'r-', alpha=1)\n",
    "    plt.show()"
   ]
  },
  {
   "cell_type": "code",
   "execution_count": 6,
   "metadata": {
    "scrolled": true
   },
   "outputs": [],
   "source": [
    "# Loop through all activities (first page)\n",
    "url = \"https://www.strava.com/api/v3/activities\"\n",
    "access_token = strava_tokens['access_token']\n",
    "# Get first page of activities from Strava with all fields\n",
    "r = requests.get(url + '?access_token=' + access_token)\n",
    "r = r.json()\n",
    "    \n",
    "df = pd.json_normalize(r)"
   ]
  },
  {
   "cell_type": "code",
   "execution_count": 9,
   "metadata": {},
   "outputs": [
    {
     "data": {
      "image/png": "[encoded data removed]",
      "text/plain": [
       "<Figure size 432x288 with 1 Axes>"
      ]
     },
     "metadata": {
      "needs_background": "light"
     },
     "output_type": "display_data"
    }
   ],
   "source": [
    "# Get Activity info\n",
    "#athlete_id = strava_tokens['athlete']['id']\n",
    "#url = \"https://www.strava.com/api/v3/athletes/{}/routes\".format(athlete_id)\n",
    "url = \"https://www.strava.com/api/v3/activities/4074378152\"\n",
    "access_token = strava_tokens['access_token']\n",
    "\n",
    "# Get first page of activities from Strava with all fields\n",
    "r = requests.get(url + '?access_token=' + access_token)\n",
    "r = r.json()\n",
    "\n",
    "summary_polyline_route = r['map']['summary_polyline']\n",
    "plot_polyline(summary_polyline_route)\n",
    "\n",
    "df_segments = pd.json_normalize(r['segment_efforts'])"
   ]
  },
  {
   "cell_type": "code",
   "execution_count": 10,
   "metadata": {},
   "outputs": [
    {
     "data": {
      "text/plain": [
       "(64, 42)"
      ]
     },
     "execution_count": 10,
     "metadata": {},
     "output_type": "execute_result"
    }
   ],
   "source": [
    "# get how many segments in activity\n",
    "df_segments.shape"
   ]
  },
  {
   "cell_type": "code",
   "execution_count": 12,
   "metadata": {},
   "outputs": [],
   "source": [
    "def calculate_time_difference_from_leader(segment_id, athlete_elapsed_time,\n",
    "                                          gender, strava_tokens):\n",
    "    \"\"\"\n",
    "    Gets the time of the segment's leader in seconds and calculates \n",
    "    the percent difference from the anthlete time\n",
    "    \"\"\"\n",
    "    \n",
    "    def get_sec(time_str):\n",
    "        \"\"\" Get Seconds from time \"\"\"\n",
    "\n",
    "        if time_str.find(\"s\") == -1:\n",
    "            try:\n",
    "                h, m, s = time_str.split(':')\n",
    "                return int(h) * 3600 + int(m) * 60 + int(s)\n",
    "            except ValueError:\n",
    "                m, s = time_str.split(':')\n",
    "                return int(m) * 60 + int(s)\n",
    "        else:\n",
    "            return [int(s) for s in re.findall(r'-?\\d+\\.?\\d*', time_str)][0]\n",
    "\n",
    "    url = \"https://www.strava.com/api/v3/segments/{}\".format(segment_id)\n",
    "    access_token = strava_tokens['access_token']\n",
    "\n",
    "    # Get first page of activities from Strava with all fields\n",
    "    r = requests.get(url + '?access_token=' + access_token)\n",
    "    r = r.json()\n",
    "\n",
    "    # get leader time\n",
    "    leader_elapsed_time = get_sec(\n",
    "        r['xoms']['qom']) if gender == 'women' else get_sec(r['xoms']['kom'])\n",
    "\n",
    "    return athlete_elapsed_time / leader_elapsed_time - 1"
   ]
  },
  {
   "cell_type": "code",
   "execution_count": 13,
   "metadata": {},
   "outputs": [
    {
     "name": "stdout",
     "output_type": "stream",
     "text": [
      "CPU times: user 1.21 s, sys: 72.6 ms, total: 1.28 s\n",
      "Wall time: 41.7 s\n"
     ]
    }
   ],
   "source": [
    "%%time\n",
    "df_segments[\"segment_time_delta\"] = df_segments.apply(\n",
    "    lambda x: calculate_time_difference_from_leader(x[\"segment.id\"],\n",
    "                                                    x[\"elapsed_time\"],\n",
    "                                                    gender=\"man\",\n",
    "                                                    strava_tokens=strava_tokens\n",
    "                                                    ),\n",
    "    axis=1)"
   ]
  },
  {
   "cell_type": "code",
   "execution_count": 14,
   "metadata": {},
   "outputs": [
    {
     "data": {
      "text/html": [
       "<div>\n",
       "<style scoped>\n",
       "    .dataframe tbody tr th:only-of-type {\n",
       "        vertical-align: middle;\n",
       "    }\n",
       "\n",
       "    .dataframe tbody tr th {\n",
       "        vertical-align: top;\n",
       "    }\n",
       "\n",
       "    .dataframe thead th {\n",
       "        text-align: right;\n",
       "    }\n",
       "</style>\n",
       "<table border=\"1\" class=\"dataframe\">\n",
       "  <thead>\n",
       "    <tr style=\"text-align: right;\">\n",
       "      <th></th>\n",
       "      <th>id</th>\n",
       "      <th>resource_state</th>\n",
       "      <th>name</th>\n",
       "      <th>elapsed_time</th>\n",
       "      <th>moving_time</th>\n",
       "      <th>start_date</th>\n",
       "      <th>start_date_local</th>\n",
       "      <th>distance</th>\n",
       "      <th>start_index</th>\n",
       "      <th>end_index</th>\n",
       "      <th>...</th>\n",
       "      <th>segment.end_latitude</th>\n",
       "      <th>segment.end_longitude</th>\n",
       "      <th>segment.climb_category</th>\n",
       "      <th>segment.city</th>\n",
       "      <th>segment.state</th>\n",
       "      <th>segment.country</th>\n",
       "      <th>segment.private</th>\n",
       "      <th>segment.hazardous</th>\n",
       "      <th>segment.starred</th>\n",
       "      <th>segment_time_delta</th>\n",
       "    </tr>\n",
       "  </thead>\n",
       "  <tbody>\n",
       "    <tr>\n",
       "      <th>25</th>\n",
       "      <td>2741743541458943054</td>\n",
       "      <td>2</td>\n",
       "      <td>Marken-Zeedijk</td>\n",
       "      <td>236</td>\n",
       "      <td>236</td>\n",
       "      <td>2020-09-17T16:43:33Z</td>\n",
       "      <td>2020-09-17T18:43:33Z</td>\n",
       "      <td>3251.120</td>\n",
       "      <td>665</td>\n",
       "      <td>736</td>\n",
       "      <td>...</td>\n",
       "      <td>52.436378</td>\n",
       "      <td>5.077737</td>\n",
       "      <td>0</td>\n",
       "      <td>Marken</td>\n",
       "      <td>Noord-Holland</td>\n",
       "      <td>The Netherlands</td>\n",
       "      <td>False</td>\n",
       "      <td>False</td>\n",
       "      <td>True</td>\n",
       "      <td>0.077626</td>\n",
       "    </tr>\n",
       "    <tr>\n",
       "      <th>24</th>\n",
       "      <td>2741743541454182478</td>\n",
       "      <td>2</td>\n",
       "      <td>Marken until corner</td>\n",
       "      <td>188</td>\n",
       "      <td>188</td>\n",
       "      <td>2020-09-17T16:43:22Z</td>\n",
       "      <td>2020-09-17T18:43:22Z</td>\n",
       "      <td>2599.900</td>\n",
       "      <td>661</td>\n",
       "      <td>717</td>\n",
       "      <td>...</td>\n",
       "      <td>52.434574</td>\n",
       "      <td>5.088045</td>\n",
       "      <td>0</td>\n",
       "      <td>Marken</td>\n",
       "      <td>Noord-Holland</td>\n",
       "      <td>Netherlands</td>\n",
       "      <td>False</td>\n",
       "      <td>False</td>\n",
       "      <td>True</td>\n",
       "      <td>0.153374</td>\n",
       "    </tr>\n",
       "    <tr>\n",
       "      <th>40</th>\n",
       "      <td>2741743541459818574</td>\n",
       "      <td>2</td>\n",
       "      <td>Sterrati Purmerbos (midden) N-Z</td>\n",
       "      <td>164</td>\n",
       "      <td>164</td>\n",
       "      <td>2020-09-17T17:25:17Z</td>\n",
       "      <td>2020-09-17T19:25:17Z</td>\n",
       "      <td>1376.000</td>\n",
       "      <td>1278</td>\n",
       "      <td>1329</td>\n",
       "      <td>...</td>\n",
       "      <td>52.482653</td>\n",
       "      <td>4.982462</td>\n",
       "      <td>0</td>\n",
       "      <td>Purmerend</td>\n",
       "      <td>Noord-Holland</td>\n",
       "      <td>Netherlands</td>\n",
       "      <td>False</td>\n",
       "      <td>False</td>\n",
       "      <td>False</td>\n",
       "      <td>0.281250</td>\n",
       "    </tr>\n",
       "    <tr>\n",
       "      <th>41</th>\n",
       "      <td>2741743541458269262</td>\n",
       "      <td>2</td>\n",
       "      <td>01,36 WesterwegxGroeneweg tot aan Linnaeuslaan...</td>\n",
       "      <td>154</td>\n",
       "      <td>154</td>\n",
       "      <td>2020-09-17T17:32:29Z</td>\n",
       "      <td>2020-09-17T19:32:29Z</td>\n",
       "      <td>1368.900</td>\n",
       "      <td>1354</td>\n",
       "      <td>1402</td>\n",
       "      <td>...</td>\n",
       "      <td>52.491081</td>\n",
       "      <td>4.956902</td>\n",
       "      <td>0</td>\n",
       "      <td>Purmerend</td>\n",
       "      <td>Noord-Holland</td>\n",
       "      <td>Netherlands</td>\n",
       "      <td>False</td>\n",
       "      <td>False</td>\n",
       "      <td>False</td>\n",
       "      <td>0.283333</td>\n",
       "    </tr>\n",
       "    <tr>\n",
       "      <th>38</th>\n",
       "      <td>2741743541458630734</td>\n",
       "      <td>2</td>\n",
       "      <td>Purmerbos van Baanstee tot Groeneweg (Noord Zuid)</td>\n",
       "      <td>517</td>\n",
       "      <td>502</td>\n",
       "      <td>2020-09-17T17:19:47Z</td>\n",
       "      <td>2020-09-17T19:19:47Z</td>\n",
       "      <td>4118.600</td>\n",
       "      <td>1194</td>\n",
       "      <td>1335</td>\n",
       "      <td>...</td>\n",
       "      <td>52.481562</td>\n",
       "      <td>4.981213</td>\n",
       "      <td>0</td>\n",
       "      <td>Purmerend</td>\n",
       "      <td>Noord-Holland</td>\n",
       "      <td>Netherlands</td>\n",
       "      <td>False</td>\n",
       "      <td>False</td>\n",
       "      <td>False</td>\n",
       "      <td>0.289277</td>\n",
       "    </tr>\n",
       "    <tr>\n",
       "      <th>...</th>\n",
       "      <td>...</td>\n",
       "      <td>...</td>\n",
       "      <td>...</td>\n",
       "      <td>...</td>\n",
       "      <td>...</td>\n",
       "      <td>...</td>\n",
       "      <td>...</td>\n",
       "      <td>...</td>\n",
       "      <td>...</td>\n",
       "      <td>...</td>\n",
       "      <td>...</td>\n",
       "      <td>...</td>\n",
       "      <td>...</td>\n",
       "      <td>...</td>\n",
       "      <td>...</td>\n",
       "      <td>...</td>\n",
       "      <td>...</td>\n",
       "      <td>...</td>\n",
       "      <td>...</td>\n",
       "      <td>...</td>\n",
       "      <td>...</td>\n",
       "    </tr>\n",
       "    <tr>\n",
       "      <th>54</th>\n",
       "      <td>2741743541462941774</td>\n",
       "      <td>2</td>\n",
       "      <td>Plaatsnaambordje Amsterdam Sprint - 500m</td>\n",
       "      <td>35</td>\n",
       "      <td>35</td>\n",
       "      <td>2020-09-17T17:53:33Z</td>\n",
       "      <td>2020-09-17T19:53:33Z</td>\n",
       "      <td>344.500</td>\n",
       "      <td>1650</td>\n",
       "      <td>1659</td>\n",
       "      <td>...</td>\n",
       "      <td>52.411640</td>\n",
       "      <td>4.930025</td>\n",
       "      <td>0</td>\n",
       "      <td>Landsmeer</td>\n",
       "      <td>Noord-Holland</td>\n",
       "      <td>Netherlands</td>\n",
       "      <td>False</td>\n",
       "      <td>False</td>\n",
       "      <td>False</td>\n",
       "      <td>2.181818</td>\n",
       "    </tr>\n",
       "    <tr>\n",
       "      <th>6</th>\n",
       "      <td>2741743541449890894</td>\n",
       "      <td>2</td>\n",
       "      <td>afdaling Zuiderzeeweg Z &gt; N</td>\n",
       "      <td>43</td>\n",
       "      <td>43</td>\n",
       "      <td>2020-09-17T16:07:54Z</td>\n",
       "      <td>2020-09-17T18:07:54Z</td>\n",
       "      <td>401.000</td>\n",
       "      <td>150</td>\n",
       "      <td>165</td>\n",
       "      <td>...</td>\n",
       "      <td>52.381741</td>\n",
       "      <td>4.970509</td>\n",
       "      <td>0</td>\n",
       "      <td>Amsterdam</td>\n",
       "      <td>None</td>\n",
       "      <td>Netherlands</td>\n",
       "      <td>False</td>\n",
       "      <td>False</td>\n",
       "      <td>False</td>\n",
       "      <td>4.375000</td>\n",
       "    </tr>\n",
       "    <tr>\n",
       "      <th>4</th>\n",
       "      <td>2741743541451335758</td>\n",
       "      <td>2</td>\n",
       "      <td>Schellingwouderbrug Oost-Noord</td>\n",
       "      <td>476</td>\n",
       "      <td>104</td>\n",
       "      <td>2020-09-17T16:00:35Z</td>\n",
       "      <td>2020-09-17T18:00:35Z</td>\n",
       "      <td>939.346</td>\n",
       "      <td>128</td>\n",
       "      <td>164</td>\n",
       "      <td>...</td>\n",
       "      <td>52.381526</td>\n",
       "      <td>4.970241</td>\n",
       "      <td>0</td>\n",
       "      <td>Amsterdam</td>\n",
       "      <td>Noord-Holland</td>\n",
       "      <td>The Netherlands</td>\n",
       "      <td>False</td>\n",
       "      <td>False</td>\n",
       "      <td>False</td>\n",
       "      <td>7.981132</td>\n",
       "    </tr>\n",
       "    <tr>\n",
       "      <th>3</th>\n",
       "      <td>2741743541450581070</td>\n",
       "      <td>2</td>\n",
       "      <td>Schellingwouderbrug van Zuid &gt; Noord</td>\n",
       "      <td>446</td>\n",
       "      <td>74</td>\n",
       "      <td>2020-09-17T16:00:28Z</td>\n",
       "      <td>2020-09-17T18:00:28Z</td>\n",
       "      <td>626.600</td>\n",
       "      <td>127</td>\n",
       "      <td>150</td>\n",
       "      <td>...</td>\n",
       "      <td>52.378765</td>\n",
       "      <td>4.967428</td>\n",
       "      <td>0</td>\n",
       "      <td>Amsterdam</td>\n",
       "      <td>Noord-Holland</td>\n",
       "      <td>Netherlands</td>\n",
       "      <td>False</td>\n",
       "      <td>False</td>\n",
       "      <td>False</td>\n",
       "      <td>9.619048</td>\n",
       "    </tr>\n",
       "    <tr>\n",
       "      <th>5</th>\n",
       "      <td>2741743541450776654</td>\n",
       "      <td>2</td>\n",
       "      <td>Dè Schellingwoudebrugklim</td>\n",
       "      <td>417</td>\n",
       "      <td>45</td>\n",
       "      <td>2020-09-17T16:01:01Z</td>\n",
       "      <td>2020-09-17T18:01:01Z</td>\n",
       "      <td>380.200</td>\n",
       "      <td>137</td>\n",
       "      <td>152</td>\n",
       "      <td>...</td>\n",
       "      <td>52.378941</td>\n",
       "      <td>4.967669</td>\n",
       "      <td>0</td>\n",
       "      <td>Amsterdam</td>\n",
       "      <td>Noord-Holland</td>\n",
       "      <td>Netherlands</td>\n",
       "      <td>False</td>\n",
       "      <td>False</td>\n",
       "      <td>False</td>\n",
       "      <td>19.850000</td>\n",
       "    </tr>\n",
       "  </tbody>\n",
       "</table>\n",
       "<p>64 rows × 43 columns</p>\n",
       "</div>"
      ],
      "text/plain": [
       "                     id  resource_state  \\\n",
       "25  2741743541458943054               2   \n",
       "24  2741743541454182478               2   \n",
       "40  2741743541459818574               2   \n",
       "41  2741743541458269262               2   \n",
       "38  2741743541458630734               2   \n",
       "..                  ...             ...   \n",
       "54  2741743541462941774               2   \n",
       "6   2741743541449890894               2   \n",
       "4   2741743541451335758               2   \n",
       "3   2741743541450581070               2   \n",
       "5   2741743541450776654               2   \n",
       "\n",
       "                                                 name  elapsed_time  \\\n",
       "25                                     Marken-Zeedijk           236   \n",
       "24                                Marken until corner           188   \n",
       "40                    Sterrati Purmerbos (midden) N-Z           164   \n",
       "41  01,36 WesterwegxGroeneweg tot aan Linnaeuslaan...           154   \n",
       "38  Purmerbos van Baanstee tot Groeneweg (Noord Zuid)           517   \n",
       "..                                                ...           ...   \n",
       "54           Plaatsnaambordje Amsterdam Sprint - 500m            35   \n",
       "6                         afdaling Zuiderzeeweg Z > N            43   \n",
       "4                      Schellingwouderbrug Oost-Noord           476   \n",
       "3                Schellingwouderbrug van Zuid > Noord           446   \n",
       "5                           Dè Schellingwoudebrugklim           417   \n",
       "\n",
       "    moving_time            start_date      start_date_local  distance  \\\n",
       "25          236  2020-09-17T16:43:33Z  2020-09-17T18:43:33Z  3251.120   \n",
       "24          188  2020-09-17T16:43:22Z  2020-09-17T18:43:22Z  2599.900   \n",
       "40          164  2020-09-17T17:25:17Z  2020-09-17T19:25:17Z  1376.000   \n",
       "41          154  2020-09-17T17:32:29Z  2020-09-17T19:32:29Z  1368.900   \n",
       "38          502  2020-09-17T17:19:47Z  2020-09-17T19:19:47Z  4118.600   \n",
       "..          ...                   ...                   ...       ...   \n",
       "54           35  2020-09-17T17:53:33Z  2020-09-17T19:53:33Z   344.500   \n",
       "6            43  2020-09-17T16:07:54Z  2020-09-17T18:07:54Z   401.000   \n",
       "4           104  2020-09-17T16:00:35Z  2020-09-17T18:00:35Z   939.346   \n",
       "3            74  2020-09-17T16:00:28Z  2020-09-17T18:00:28Z   626.600   \n",
       "5            45  2020-09-17T16:01:01Z  2020-09-17T18:01:01Z   380.200   \n",
       "\n",
       "    start_index  end_index  ...  segment.end_latitude  segment.end_longitude  \\\n",
       "25          665        736  ...             52.436378               5.077737   \n",
       "24          661        717  ...             52.434574               5.088045   \n",
       "40         1278       1329  ...             52.482653               4.982462   \n",
       "41         1354       1402  ...             52.491081               4.956902   \n",
       "38         1194       1335  ...             52.481562               4.981213   \n",
       "..          ...        ...  ...                   ...                    ...   \n",
       "54         1650       1659  ...             52.411640               4.930025   \n",
       "6           150        165  ...             52.381741               4.970509   \n",
       "4           128        164  ...             52.381526               4.970241   \n",
       "3           127        150  ...             52.378765               4.967428   \n",
       "5           137        152  ...             52.378941               4.967669   \n",
       "\n",
       "    segment.climb_category segment.city  segment.state  segment.country  \\\n",
       "25                       0       Marken  Noord-Holland  The Netherlands   \n",
       "24                       0       Marken  Noord-Holland      Netherlands   \n",
       "40                       0    Purmerend  Noord-Holland      Netherlands   \n",
       "41                       0    Purmerend  Noord-Holland      Netherlands   \n",
       "38                       0    Purmerend  Noord-Holland      Netherlands   \n",
       "..                     ...          ...            ...              ...   \n",
       "54                       0    Landsmeer  Noord-Holland      Netherlands   \n",
       "6                        0    Amsterdam           None      Netherlands   \n",
       "4                        0    Amsterdam  Noord-Holland  The Netherlands   \n",
       "3                        0    Amsterdam  Noord-Holland      Netherlands   \n",
       "5                        0    Amsterdam  Noord-Holland      Netherlands   \n",
       "\n",
       "    segment.private  segment.hazardous  segment.starred  segment_time_delta  \n",
       "25            False              False             True            0.077626  \n",
       "24            False              False             True            0.153374  \n",
       "40            False              False            False            0.281250  \n",
       "41            False              False            False            0.283333  \n",
       "38            False              False            False            0.289277  \n",
       "..              ...                ...              ...                 ...  \n",
       "54            False              False            False            2.181818  \n",
       "6             False              False            False            4.375000  \n",
       "4             False              False            False            7.981132  \n",
       "3             False              False            False            9.619048  \n",
       "5             False              False            False           19.850000  \n",
       "\n",
       "[64 rows x 43 columns]"
      ]
     },
     "execution_count": 14,
     "metadata": {},
     "output_type": "execute_result"
    }
   ],
   "source": [
    "df_segments.sort_values(by=['segment_time_delta'])"
   ]
  },
  {
   "cell_type": "code",
   "execution_count": 15,
   "metadata": {},
   "outputs": [],
   "source": [
    "activity_id = '4074378152'\n",
    "segment_id = df_segments['id'][0]\n",
    "url_segment = 'https://www.strava.com/activities/{}/segments/2741743541458943054'.format(\n",
    "    activity_id, segment_id)"
   ]
  },
  {
   "cell_type": "code",
   "execution_count": 16,
   "metadata": {},
   "outputs": [
    {
     "data": {
      "text/plain": [
       "True"
      ]
     },
     "execution_count": 16,
     "metadata": {},
     "output_type": "execute_result"
    }
   ],
   "source": [
    "import webbrowser\n",
    "\n",
    "webbrowser.open(url_segment)"
   ]
  },
  {
   "cell_type": "code",
   "execution_count": null,
   "metadata": {},
   "outputs": [],
   "source": []
  },
  {
   "cell_type": "markdown",
   "metadata": {},
   "source": [
    "Ideas:\n",
    " * plot map with segments coloured by proximity to KOM (interactive map?)\n",
    " * create app where to select activity to get the segments analysis. Be able to plot the segment or open it in the browser\n",
    " * create REST API Flask\n",
    " * ref for plotting segment_polylines https://knanne.github.io/notebooks/visualize_strava_data_in_python.html#Geographic-Data"
   ]
  },
  {
   "cell_type": "code",
   "execution_count": null,
   "metadata": {},
   "outputs": [],
   "source": []
  },
  {
   "cell_type": "code",
   "execution_count": null,
   "metadata": {},
   "outputs": [],
   "source": []
  },
  {
   "cell_type": "code",
   "execution_count": null,
   "metadata": {},
   "outputs": [],
   "source": []
  },
  {
   "cell_type": "code",
   "execution_count": null,
   "metadata": {},
   "outputs": [],
   "source": []
  },
  {
   "cell_type": "code",
   "execution_count": null,
   "metadata": {},
   "outputs": [],
   "source": []
  },
  {
   "cell_type": "code",
   "execution_count": null,
   "metadata": {},
   "outputs": [],
   "source": []
  },
  {
   "cell_type": "code",
   "execution_count": 52,
   "metadata": {},
   "outputs": [],
   "source": [
    "#!pipenv install git+https://github.com/matplotlib/basemap.git"
   ]
  },
  {
   "cell_type": "code",
   "execution_count": 53,
   "metadata": {},
   "outputs": [],
   "source": [
    "# previous step:\n",
    "# $ brew install geos\n",
    "# !pipenv install https://github.com/matplotlib/basemap/archive/master.zip"
   ]
  },
  {
   "cell_type": "code",
   "execution_count": 17,
   "metadata": {
    "collapsed": true
   },
   "outputs": [
    {
     "name": "stderr",
     "output_type": "stream",
     "text": [
      "/Users/pvilar/.local/share/virtualenvs/Strava-analysis--HuFty86/lib/python3.8/site-packages/pyproj/crs/crs.py:53: FutureWarning: '+init=<authority>:<code>' syntax is deprecated. '<authority>:<code>' is the preferred initialization method. When making the change, be mindful of axis order changes: https://pyproj4.github.io/pyproj/stable/gotchas.html#axis-order-changes-in-proj-6\n",
      "  return _prepare_from_string(\" \".join(pjargs))\n",
      "/Users/pvilar/.local/share/virtualenvs/Strava-analysis--HuFty86/lib/python3.8/site-packages/pyproj/crs/crs.py:294: FutureWarning: '+init=<authority>:<code>' syntax is deprecated. '<authority>:<code>' is the preferred initialization method. When making the change, be mindful of axis order changes: https://pyproj4.github.io/pyproj/stable/gotchas.html#axis-order-changes-in-proj-6\n",
      "  projstring = _prepare_from_string(\" \".join((projstring, projkwargs)))\n"
     ]
    },
    {
     "name": "stdout",
     "output_type": "stream",
     "text": [
      "http://server.arcgisonline.com/ArcGIS/rest/services/ESRI_Imagery_World_2D/MapServer/export?bbox=1564270.9620172689,4401598.726055895,1615017.0560379555,4446612.184939481&bboxSR=5520&imageSR=5520&size=1500,1330&dpi=96&format=png32&transparent=true&f=image\n"
     ]
    },
    {
     "ename": "UnsupportedOperation",
     "evalue": "seek",
     "output_type": "error",
     "traceback": [
      "\u001b[0;31m---------------------------------------------------------------------------\u001b[0m",
      "\u001b[0;31mUnsupportedOperation\u001b[0m                      Traceback (most recent call last)",
      "\u001b[0;32m<ipython-input-17-dbeedd26bfcf>\u001b[0m in \u001b[0;36m<module>\u001b[0;34m\u001b[0m\n\u001b[1;32m      5\u001b[0m \u001b[0;31m#http://server.arcgisonline.com/arcgis/rest/services\u001b[0m\u001b[0;34m\u001b[0m\u001b[0;34m\u001b[0m\u001b[0;34m\u001b[0m\u001b[0m\n\u001b[1;32m      6\u001b[0m \u001b[0;34m\u001b[0m\u001b[0m\n\u001b[0;32m----> 7\u001b[0;31m \u001b[0mmap\u001b[0m\u001b[0;34m.\u001b[0m\u001b[0marcgisimage\u001b[0m\u001b[0;34m(\u001b[0m\u001b[0mservice\u001b[0m\u001b[0;34m=\u001b[0m\u001b[0;34m'ESRI_Imagery_World_2D'\u001b[0m\u001b[0;34m,\u001b[0m \u001b[0mxpixels\u001b[0m \u001b[0;34m=\u001b[0m \u001b[0;36m1500\u001b[0m\u001b[0;34m,\u001b[0m \u001b[0mverbose\u001b[0m\u001b[0;34m=\u001b[0m \u001b[0;32mTrue\u001b[0m\u001b[0;34m)\u001b[0m\u001b[0;34m\u001b[0m\u001b[0;34m\u001b[0m\u001b[0m\n\u001b[0m\u001b[1;32m      8\u001b[0m \u001b[0mplt\u001b[0m\u001b[0;34m.\u001b[0m\u001b[0mshow\u001b[0m\u001b[0;34m(\u001b[0m\u001b[0;34m)\u001b[0m\u001b[0;34m\u001b[0m\u001b[0;34m\u001b[0m\u001b[0m\n",
      "\u001b[0;32m~/.local/share/virtualenvs/Strava-analysis--HuFty86/lib/python3.8/site-packages/mpl_toolkits/basemap/__init__.py\u001b[0m in \u001b[0;36marcgisimage\u001b[0;34m(self, server, service, xpixels, ypixels, dpi, verbose, **kwargs)\u001b[0m\n\u001b[1;32m   4269\u001b[0m         \u001b[0;32mif\u001b[0m \u001b[0mverbose\u001b[0m\u001b[0;34m:\u001b[0m \u001b[0mprint\u001b[0m\u001b[0;34m(\u001b[0m\u001b[0mbasemap_url\u001b[0m\u001b[0;34m)\u001b[0m\u001b[0;34m\u001b[0m\u001b[0;34m\u001b[0m\u001b[0m\n\u001b[1;32m   4270\u001b[0m         \u001b[0;31m# return AxesImage instance.\u001b[0m\u001b[0;34m\u001b[0m\u001b[0;34m\u001b[0m\u001b[0;34m\u001b[0m\u001b[0m\n\u001b[0;32m-> 4271\u001b[0;31m         return self.imshow(imread(urlopen(basemap_url)),ax=ax,\n\u001b[0m\u001b[1;32m   4272\u001b[0m                            origin='upper')\n\u001b[1;32m   4273\u001b[0m \u001b[0;34m\u001b[0m\u001b[0m\n",
      "\u001b[0;32m~/.local/share/virtualenvs/Strava-analysis--HuFty86/lib/python3.8/site-packages/matplotlib/image.py\u001b[0m in \u001b[0;36mimread\u001b[0;34m(fname, format)\u001b[0m\n\u001b[1;32m   1488\u001b[0m                     \u001b[0mresponse\u001b[0m \u001b[0;34m=\u001b[0m \u001b[0mio\u001b[0m\u001b[0;34m.\u001b[0m\u001b[0mBytesIO\u001b[0m\u001b[0;34m(\u001b[0m\u001b[0mresponse\u001b[0m\u001b[0;34m.\u001b[0m\u001b[0mread\u001b[0m\u001b[0;34m(\u001b[0m\u001b[0;34m)\u001b[0m\u001b[0;34m)\u001b[0m\u001b[0;34m\u001b[0m\u001b[0;34m\u001b[0m\u001b[0m\n\u001b[1;32m   1489\u001b[0m                 \u001b[0;32mreturn\u001b[0m \u001b[0mimread\u001b[0m\u001b[0;34m(\u001b[0m\u001b[0mresponse\u001b[0m\u001b[0;34m,\u001b[0m \u001b[0mformat\u001b[0m\u001b[0;34m=\u001b[0m\u001b[0mext\u001b[0m\u001b[0;34m)\u001b[0m\u001b[0;34m\u001b[0m\u001b[0;34m\u001b[0m\u001b[0m\n\u001b[0;32m-> 1490\u001b[0;31m     \u001b[0;32mwith\u001b[0m \u001b[0mimg_open\u001b[0m\u001b[0;34m(\u001b[0m\u001b[0mfname\u001b[0m\u001b[0;34m)\u001b[0m \u001b[0;32mas\u001b[0m \u001b[0mimage\u001b[0m\u001b[0;34m:\u001b[0m\u001b[0;34m\u001b[0m\u001b[0;34m\u001b[0m\u001b[0m\n\u001b[0m\u001b[1;32m   1491\u001b[0m         return (_pil_png_to_float_array(image)\n\u001b[1;32m   1492\u001b[0m                 \u001b[0;32mif\u001b[0m \u001b[0misinstance\u001b[0m\u001b[0;34m(\u001b[0m\u001b[0mimage\u001b[0m\u001b[0;34m,\u001b[0m \u001b[0mPIL\u001b[0m\u001b[0;34m.\u001b[0m\u001b[0mPngImagePlugin\u001b[0m\u001b[0;34m.\u001b[0m\u001b[0mPngImageFile\u001b[0m\u001b[0;34m)\u001b[0m \u001b[0;32melse\u001b[0m\u001b[0;34m\u001b[0m\u001b[0;34m\u001b[0m\u001b[0m\n",
      "\u001b[0;32m~/.local/share/virtualenvs/Strava-analysis--HuFty86/lib/python3.8/site-packages/PIL/ImageFile.py\u001b[0m in \u001b[0;36m__init__\u001b[0;34m(self, fp, filename)\u001b[0m\n\u001b[1;32m    115\u001b[0m         \u001b[0;32mtry\u001b[0m\u001b[0;34m:\u001b[0m\u001b[0;34m\u001b[0m\u001b[0;34m\u001b[0m\u001b[0m\n\u001b[1;32m    116\u001b[0m             \u001b[0;32mtry\u001b[0m\u001b[0;34m:\u001b[0m\u001b[0;34m\u001b[0m\u001b[0;34m\u001b[0m\u001b[0m\n\u001b[0;32m--> 117\u001b[0;31m                 \u001b[0mself\u001b[0m\u001b[0;34m.\u001b[0m\u001b[0m_open\u001b[0m\u001b[0;34m(\u001b[0m\u001b[0;34m)\u001b[0m\u001b[0;34m\u001b[0m\u001b[0;34m\u001b[0m\u001b[0m\n\u001b[0m\u001b[1;32m    118\u001b[0m             except (\n\u001b[1;32m    119\u001b[0m                 \u001b[0mIndexError\u001b[0m\u001b[0;34m,\u001b[0m  \u001b[0;31m# end of data\u001b[0m\u001b[0;34m\u001b[0m\u001b[0;34m\u001b[0m\u001b[0m\n",
      "\u001b[0;32m~/.local/share/virtualenvs/Strava-analysis--HuFty86/lib/python3.8/site-packages/PIL/PngImagePlugin.py\u001b[0m in \u001b[0;36m_open\u001b[0;34m(self)\u001b[0m\n\u001b[1;32m    651\u001b[0m             \u001b[0;31m# get next chunk\u001b[0m\u001b[0;34m\u001b[0m\u001b[0;34m\u001b[0m\u001b[0;34m\u001b[0m\u001b[0m\n\u001b[1;32m    652\u001b[0m \u001b[0;34m\u001b[0m\u001b[0m\n\u001b[0;32m--> 653\u001b[0;31m             \u001b[0mcid\u001b[0m\u001b[0;34m,\u001b[0m \u001b[0mpos\u001b[0m\u001b[0;34m,\u001b[0m \u001b[0mlength\u001b[0m \u001b[0;34m=\u001b[0m \u001b[0mself\u001b[0m\u001b[0;34m.\u001b[0m\u001b[0mpng\u001b[0m\u001b[0;34m.\u001b[0m\u001b[0mread\u001b[0m\u001b[0;34m(\u001b[0m\u001b[0;34m)\u001b[0m\u001b[0;34m\u001b[0m\u001b[0;34m\u001b[0m\u001b[0m\n\u001b[0m\u001b[1;32m    654\u001b[0m \u001b[0;34m\u001b[0m\u001b[0m\n\u001b[1;32m    655\u001b[0m             \u001b[0;32mtry\u001b[0m\u001b[0;34m:\u001b[0m\u001b[0;34m\u001b[0m\u001b[0;34m\u001b[0m\u001b[0m\n",
      "\u001b[0;32m~/.local/share/virtualenvs/Strava-analysis--HuFty86/lib/python3.8/site-packages/PIL/PngImagePlugin.py\u001b[0m in \u001b[0;36mread\u001b[0;34m(self)\u001b[0m\n\u001b[1;32m    126\u001b[0m             \u001b[0ms\u001b[0m \u001b[0;34m=\u001b[0m \u001b[0mself\u001b[0m\u001b[0;34m.\u001b[0m\u001b[0mfp\u001b[0m\u001b[0;34m.\u001b[0m\u001b[0mread\u001b[0m\u001b[0;34m(\u001b[0m\u001b[0;36m8\u001b[0m\u001b[0;34m)\u001b[0m\u001b[0;34m\u001b[0m\u001b[0;34m\u001b[0m\u001b[0m\n\u001b[1;32m    127\u001b[0m             \u001b[0mcid\u001b[0m \u001b[0;34m=\u001b[0m \u001b[0ms\u001b[0m\u001b[0;34m[\u001b[0m\u001b[0;36m4\u001b[0m\u001b[0;34m:\u001b[0m\u001b[0;34m]\u001b[0m\u001b[0;34m\u001b[0m\u001b[0;34m\u001b[0m\u001b[0m\n\u001b[0;32m--> 128\u001b[0;31m             \u001b[0mpos\u001b[0m \u001b[0;34m=\u001b[0m \u001b[0mself\u001b[0m\u001b[0;34m.\u001b[0m\u001b[0mfp\u001b[0m\u001b[0;34m.\u001b[0m\u001b[0mtell\u001b[0m\u001b[0;34m(\u001b[0m\u001b[0;34m)\u001b[0m\u001b[0;34m\u001b[0m\u001b[0;34m\u001b[0m\u001b[0m\n\u001b[0m\u001b[1;32m    129\u001b[0m             \u001b[0mlength\u001b[0m \u001b[0;34m=\u001b[0m \u001b[0mi32\u001b[0m\u001b[0;34m(\u001b[0m\u001b[0ms\u001b[0m\u001b[0;34m)\u001b[0m\u001b[0;34m\u001b[0m\u001b[0;34m\u001b[0m\u001b[0m\n\u001b[1;32m    130\u001b[0m \u001b[0;34m\u001b[0m\u001b[0m\n",
      "\u001b[0;31mUnsupportedOperation\u001b[0m: seek"
     ]
    },
    {
     "data": {
      "image/png": "[encoded data removed]",
      "text/plain": [
       "<Figure size 432x288 with 1 Axes>"
      ]
     },
     "metadata": {
      "needs_background": "light"
     },
     "output_type": "display_data"
    }
   ],
   "source": [
    "from mpl_toolkits.basemap import Basemap\n",
    "import matplotlib.pyplot as plt\n",
    "\n",
    "map = Basemap(llcrnrlon=3.75,llcrnrlat=39.75,urcrnrlon=4.35,urcrnrlat=40.15, epsg=5520)\n",
    "#http://server.arcgisonline.com/arcgis/rest/services\n",
    "\n",
    "map.arcgisimage(service='ESRI_Imagery_World_2D', xpixels = 1500, verbose= True)\n",
    "plt.show()"
   ]
  },
  {
   "cell_type": "code",
   "execution_count": 18,
   "metadata": {},
   "outputs": [],
   "source": [
    "# opens a map in a new window\n",
    "import requests\n",
    "from PIL import Image\n",
    "url ='http://server.arcgisonline.com/ArcGIS/rest/services/ESRI_Imagery_World_2D/MapServer/export?bbox=1564270.9620172689,4401598.726055895,1615017.0560379555,4446612.184939481&bboxSR=5520&imageSR=5520&size=1500,1330&dpi=96&format=png32&transparent=true&f=image'\n",
    "im = Image.open(requests.get(url, stream=True).raw)\n",
    "im.show()"
   ]
  },
  {
   "cell_type": "code",
   "execution_count": 19,
   "metadata": {
    "collapsed": true
   },
   "outputs": [
    {
     "name": "stderr",
     "output_type": "stream",
     "text": [
      "/Users/pvilar/.local/share/virtualenvs/Strava-analysis--HuFty86/lib/python3.8/site-packages/pyproj/crs/crs.py:53: FutureWarning: '+init=<authority>:<code>' syntax is deprecated. '<authority>:<code>' is the preferred initialization method. When making the change, be mindful of axis order changes: https://pyproj4.github.io/pyproj/stable/gotchas.html#axis-order-changes-in-proj-6\n",
      "  return _prepare_from_string(\" \".join(pjargs))\n",
      "/Users/pvilar/.local/share/virtualenvs/Strava-analysis--HuFty86/lib/python3.8/site-packages/pyproj/crs/crs.py:294: FutureWarning: '+init=<authority>:<code>' syntax is deprecated. '<authority>:<code>' is the preferred initialization method. When making the change, be mindful of axis order changes: https://pyproj4.github.io/pyproj/stable/gotchas.html#axis-order-changes-in-proj-6\n",
      "  projstring = _prepare_from_string(\" \".join((projstring, projkwargs)))\n"
     ]
    },
    {
     "name": "stdout",
     "output_type": "stream",
     "text": [
      "http://server.arcgisonline.com/ArcGIS/rest/services/World_Imagery/MapServer/export?bbox=494623.2230448483,5798575.4150865255,498824.3666249413,5803229.983785062&bboxSR=23095&imageSR=23095&size=400,443&dpi=96&format=png32&transparent=true&f=image\n"
     ]
    },
    {
     "ename": "UnsupportedOperation",
     "evalue": "seek",
     "output_type": "error",
     "traceback": [
      "\u001b[0;31m---------------------------------------------------------------------------\u001b[0m",
      "\u001b[0;31mUnsupportedOperation\u001b[0m                      Traceback (most recent call last)",
      "\u001b[0;32m<ipython-input-19-f54458099c97>\u001b[0m in \u001b[0;36m<module>\u001b[0;34m\u001b[0m\n\u001b[1;32m     20\u001b[0m )\n\u001b[1;32m     21\u001b[0m \u001b[0;34m\u001b[0m\u001b[0m\n\u001b[0;32m---> 22\u001b[0;31m \u001b[0mm\u001b[0m\u001b[0;34m.\u001b[0m\u001b[0marcgisimage\u001b[0m\u001b[0;34m(\u001b[0m\u001b[0mservice\u001b[0m\u001b[0;34m=\u001b[0m\u001b[0;34m\"World_Imagery\"\u001b[0m\u001b[0;34m,\u001b[0m \u001b[0mverbose\u001b[0m\u001b[0;34m=\u001b[0m\u001b[0;32mTrue\u001b[0m\u001b[0;34m)\u001b[0m\u001b[0;34m\u001b[0m\u001b[0;34m\u001b[0m\u001b[0m\n\u001b[0m\u001b[1;32m     23\u001b[0m \u001b[0mx\u001b[0m\u001b[0;34m,\u001b[0m \u001b[0my\u001b[0m \u001b[0;34m=\u001b[0m \u001b[0mm\u001b[0m\u001b[0;34m(\u001b[0m\u001b[0mride_longitudes\u001b[0m\u001b[0;34m,\u001b[0m \u001b[0mride_latitudes\u001b[0m\u001b[0;34m)\u001b[0m\u001b[0;34m\u001b[0m\u001b[0;34m\u001b[0m\u001b[0m\n\u001b[1;32m     24\u001b[0m \u001b[0mm\u001b[0m\u001b[0;34m.\u001b[0m\u001b[0mplot\u001b[0m\u001b[0;34m(\u001b[0m\u001b[0mx\u001b[0m\u001b[0;34m,\u001b[0m \u001b[0my\u001b[0m\u001b[0;34m,\u001b[0m \u001b[0;34m'r-'\u001b[0m\u001b[0;34m)\u001b[0m\u001b[0;34m\u001b[0m\u001b[0;34m\u001b[0m\u001b[0m\n",
      "\u001b[0;32m~/.local/share/virtualenvs/Strava-analysis--HuFty86/lib/python3.8/site-packages/mpl_toolkits/basemap/__init__.py\u001b[0m in \u001b[0;36marcgisimage\u001b[0;34m(self, server, service, xpixels, ypixels, dpi, verbose, **kwargs)\u001b[0m\n\u001b[1;32m   4269\u001b[0m         \u001b[0;32mif\u001b[0m \u001b[0mverbose\u001b[0m\u001b[0;34m:\u001b[0m \u001b[0mprint\u001b[0m\u001b[0;34m(\u001b[0m\u001b[0mbasemap_url\u001b[0m\u001b[0;34m)\u001b[0m\u001b[0;34m\u001b[0m\u001b[0;34m\u001b[0m\u001b[0m\n\u001b[1;32m   4270\u001b[0m         \u001b[0;31m# return AxesImage instance.\u001b[0m\u001b[0;34m\u001b[0m\u001b[0;34m\u001b[0m\u001b[0;34m\u001b[0m\u001b[0m\n\u001b[0;32m-> 4271\u001b[0;31m         return self.imshow(imread(urlopen(basemap_url)),ax=ax,\n\u001b[0m\u001b[1;32m   4272\u001b[0m                            origin='upper')\n\u001b[1;32m   4273\u001b[0m \u001b[0;34m\u001b[0m\u001b[0m\n",
      "\u001b[0;32m~/.local/share/virtualenvs/Strava-analysis--HuFty86/lib/python3.8/site-packages/matplotlib/image.py\u001b[0m in \u001b[0;36mimread\u001b[0;34m(fname, format)\u001b[0m\n\u001b[1;32m   1488\u001b[0m                     \u001b[0mresponse\u001b[0m \u001b[0;34m=\u001b[0m \u001b[0mio\u001b[0m\u001b[0;34m.\u001b[0m\u001b[0mBytesIO\u001b[0m\u001b[0;34m(\u001b[0m\u001b[0mresponse\u001b[0m\u001b[0;34m.\u001b[0m\u001b[0mread\u001b[0m\u001b[0;34m(\u001b[0m\u001b[0;34m)\u001b[0m\u001b[0;34m)\u001b[0m\u001b[0;34m\u001b[0m\u001b[0;34m\u001b[0m\u001b[0m\n\u001b[1;32m   1489\u001b[0m                 \u001b[0;32mreturn\u001b[0m \u001b[0mimread\u001b[0m\u001b[0;34m(\u001b[0m\u001b[0mresponse\u001b[0m\u001b[0;34m,\u001b[0m \u001b[0mformat\u001b[0m\u001b[0;34m=\u001b[0m\u001b[0mext\u001b[0m\u001b[0;34m)\u001b[0m\u001b[0;34m\u001b[0m\u001b[0;34m\u001b[0m\u001b[0m\n\u001b[0;32m-> 1490\u001b[0;31m     \u001b[0;32mwith\u001b[0m \u001b[0mimg_open\u001b[0m\u001b[0;34m(\u001b[0m\u001b[0mfname\u001b[0m\u001b[0;34m)\u001b[0m \u001b[0;32mas\u001b[0m \u001b[0mimage\u001b[0m\u001b[0;34m:\u001b[0m\u001b[0;34m\u001b[0m\u001b[0;34m\u001b[0m\u001b[0m\n\u001b[0m\u001b[1;32m   1491\u001b[0m         return (_pil_png_to_float_array(image)\n\u001b[1;32m   1492\u001b[0m                 \u001b[0;32mif\u001b[0m \u001b[0misinstance\u001b[0m\u001b[0;34m(\u001b[0m\u001b[0mimage\u001b[0m\u001b[0;34m,\u001b[0m \u001b[0mPIL\u001b[0m\u001b[0;34m.\u001b[0m\u001b[0mPngImagePlugin\u001b[0m\u001b[0;34m.\u001b[0m\u001b[0mPngImageFile\u001b[0m\u001b[0;34m)\u001b[0m \u001b[0;32melse\u001b[0m\u001b[0;34m\u001b[0m\u001b[0;34m\u001b[0m\u001b[0m\n",
      "\u001b[0;32m~/.local/share/virtualenvs/Strava-analysis--HuFty86/lib/python3.8/site-packages/PIL/ImageFile.py\u001b[0m in \u001b[0;36m__init__\u001b[0;34m(self, fp, filename)\u001b[0m\n\u001b[1;32m    115\u001b[0m         \u001b[0;32mtry\u001b[0m\u001b[0;34m:\u001b[0m\u001b[0;34m\u001b[0m\u001b[0;34m\u001b[0m\u001b[0m\n\u001b[1;32m    116\u001b[0m             \u001b[0;32mtry\u001b[0m\u001b[0;34m:\u001b[0m\u001b[0;34m\u001b[0m\u001b[0;34m\u001b[0m\u001b[0m\n\u001b[0;32m--> 117\u001b[0;31m                 \u001b[0mself\u001b[0m\u001b[0;34m.\u001b[0m\u001b[0m_open\u001b[0m\u001b[0;34m(\u001b[0m\u001b[0;34m)\u001b[0m\u001b[0;34m\u001b[0m\u001b[0;34m\u001b[0m\u001b[0m\n\u001b[0m\u001b[1;32m    118\u001b[0m             except (\n\u001b[1;32m    119\u001b[0m                 \u001b[0mIndexError\u001b[0m\u001b[0;34m,\u001b[0m  \u001b[0;31m# end of data\u001b[0m\u001b[0;34m\u001b[0m\u001b[0;34m\u001b[0m\u001b[0m\n",
      "\u001b[0;32m~/.local/share/virtualenvs/Strava-analysis--HuFty86/lib/python3.8/site-packages/PIL/PngImagePlugin.py\u001b[0m in \u001b[0;36m_open\u001b[0;34m(self)\u001b[0m\n\u001b[1;32m    651\u001b[0m             \u001b[0;31m# get next chunk\u001b[0m\u001b[0;34m\u001b[0m\u001b[0;34m\u001b[0m\u001b[0;34m\u001b[0m\u001b[0m\n\u001b[1;32m    652\u001b[0m \u001b[0;34m\u001b[0m\u001b[0m\n\u001b[0;32m--> 653\u001b[0;31m             \u001b[0mcid\u001b[0m\u001b[0;34m,\u001b[0m \u001b[0mpos\u001b[0m\u001b[0;34m,\u001b[0m \u001b[0mlength\u001b[0m \u001b[0;34m=\u001b[0m \u001b[0mself\u001b[0m\u001b[0;34m.\u001b[0m\u001b[0mpng\u001b[0m\u001b[0;34m.\u001b[0m\u001b[0mread\u001b[0m\u001b[0;34m(\u001b[0m\u001b[0;34m)\u001b[0m\u001b[0;34m\u001b[0m\u001b[0;34m\u001b[0m\u001b[0m\n\u001b[0m\u001b[1;32m    654\u001b[0m \u001b[0;34m\u001b[0m\u001b[0m\n\u001b[1;32m    655\u001b[0m             \u001b[0;32mtry\u001b[0m\u001b[0;34m:\u001b[0m\u001b[0;34m\u001b[0m\u001b[0;34m\u001b[0m\u001b[0m\n",
      "\u001b[0;32m~/.local/share/virtualenvs/Strava-analysis--HuFty86/lib/python3.8/site-packages/PIL/PngImagePlugin.py\u001b[0m in \u001b[0;36mread\u001b[0;34m(self)\u001b[0m\n\u001b[1;32m    126\u001b[0m             \u001b[0ms\u001b[0m \u001b[0;34m=\u001b[0m \u001b[0mself\u001b[0m\u001b[0;34m.\u001b[0m\u001b[0mfp\u001b[0m\u001b[0;34m.\u001b[0m\u001b[0mread\u001b[0m\u001b[0;34m(\u001b[0m\u001b[0;36m8\u001b[0m\u001b[0;34m)\u001b[0m\u001b[0;34m\u001b[0m\u001b[0;34m\u001b[0m\u001b[0m\n\u001b[1;32m    127\u001b[0m             \u001b[0mcid\u001b[0m \u001b[0;34m=\u001b[0m \u001b[0ms\u001b[0m\u001b[0;34m[\u001b[0m\u001b[0;36m4\u001b[0m\u001b[0;34m:\u001b[0m\u001b[0;34m]\u001b[0m\u001b[0;34m\u001b[0m\u001b[0;34m\u001b[0m\u001b[0m\n\u001b[0;32m--> 128\u001b[0;31m             \u001b[0mpos\u001b[0m \u001b[0;34m=\u001b[0m \u001b[0mself\u001b[0m\u001b[0;34m.\u001b[0m\u001b[0mfp\u001b[0m\u001b[0;34m.\u001b[0m\u001b[0mtell\u001b[0m\u001b[0;34m(\u001b[0m\u001b[0;34m)\u001b[0m\u001b[0;34m\u001b[0m\u001b[0;34m\u001b[0m\u001b[0m\n\u001b[0m\u001b[1;32m    129\u001b[0m             \u001b[0mlength\u001b[0m \u001b[0;34m=\u001b[0m \u001b[0mi32\u001b[0m\u001b[0;34m(\u001b[0m\u001b[0ms\u001b[0m\u001b[0;34m)\u001b[0m\u001b[0;34m\u001b[0m\u001b[0;34m\u001b[0m\u001b[0m\n\u001b[1;32m    130\u001b[0m \u001b[0;34m\u001b[0m\u001b[0m\n",
      "\u001b[0;31mUnsupportedOperation\u001b[0m: seek"
     ]
    },
    {
     "data": {
      "image/png": "[encoded data removed]",
      "text/plain": [
       "<Figure size 432x288 with 1 Axes>"
      ]
     },
     "metadata": {
      "needs_background": "light"
     },
     "output_type": "display_data"
    }
   ],
   "source": [
    "import polyline\n",
    "import matplotlib.pyplot as plt\n",
    "\n",
    "from mpl_toolkits.basemap import Basemap\n",
    "\n",
    "#summary_polyline = \"ij_}Hyjd^dB_Gp@aAn@[F[{BwQpA?p@v@rCQf@m@_@iTSaAe\\\\cEWVKt@yANs@jCkAfB_JhIdEpP|ApD|BfDl@`DcEvCwEbCcHtKiGnLmKnOcClF{HxLoBrBgG~DmAnBy@pCYxBi@xIHlBu@xH{@tPu@fRLpIS~Eo@lC_HtOuJ|LwOrH{FrH}BdEoChBeBt@{HpBwBpBqA|Ba@K{DeGkKnQc@WkEwGsG~Aj@rBjBjWOhA}AtEc@`Ge\\\\rZyCbH{@|@Ij@r@hA|BxURf@E`@qJzQy_@fz@uGtG{Cy@}GxAyCrCqAfC{AfHmC|SQtEdAxHpBvGv@`EDbFm@pDo@r@sAl@qGc@}ALgJzIkGhNcDzOkBvHsCpD{EvCaGfBqWtC_FpB_F`FeOdV_HtEsJL{JeCqFaC}D}DkH{FyRiD_B}@cC`@{CyAeC`@}RrK_ErAcDnBuFJmBk@sA{@kAoBgD}Iw@_DK}DnAcBUsCTcIIsDkAkGu@eAiCiGyOoSoE{DqImDqE|@aG{AaH}CwDaD_DmFkCgMgB_GeEyFkV_LgE_AaI{BuARoDrBy@z@_BfDSBqCkLoBwFmBsBmDoAgCIkCxB}CtAsI?iFq@{B^cAYsAoBIcDcBkO}A{BuKcd@{Sq`AmAkH_@aFKuN^gFxAyHtPyj@fBcE|E}OzWk}@~CiHXgE`BoIv@wGj]_jE`AgBtAd@j_@j^bRdNn@|Ab@lFp@rAvJ|GxBr@^l@\\\\ANm@M_FJgu@l@mI`AsHfEeU`BsEjFcKxKoM|FwE~CcB`Cl@|DfH|CjGrInS`EzLnEjSrNb~@hHjc@jBnRzFv~@fCjf@jAn\\\\N|Ge@r}@L|Fj@t@tAXxPhBdeAkG`Du@M{DmHog@u@gDDiA`^cSdWmP|[e\\\\fDaE|HaGxB{D|FeO?e@_@u@sZue@YcBxOyl@nFiVtGqVnTir@r@gBd@e@VuCxCkJIgEfGyiAdAwZe@w@kQ{LYy@zDyWvDoRd@_A~zAfq@|q@l_@l@FnBaBfBe@fVvL`AxAt@tB^kEnBKlBf@~AhAr@`Av@zBtEeBfAyElAg@hGnA`B|@jBnBp@`AXbAAzDr@fCC`D`@lG\\\\NXfC`C`Fl@rBtGnc@Et@cA`Bn@`CyApDxBzD~@lCvCvBtEj]xBpKGp@aFnJ?b@~GpXdBdE~BnD|AxHxC~Dr@ItEdAzB_@\"\n",
    "summary_polyline = '_fq~Hy`d]f@qa@DkEHyClAyz@PoKRcBl@mBzCsI'\n",
    "\n",
    "coordinates = polyline.decode(summary_polyline)\n",
    "\n",
    "ride_longitudes = [coordinate[1] for coordinate in coordinates]\n",
    "ride_latitudes = [coordinate[0] for coordinate in coordinates]\n",
    "\n",
    "m = Basemap(\n",
    "    llcrnrlon=min(ride_longitudes) - 0.02,\n",
    "    llcrnrlat=min(ride_latitudes) - 0.02,\n",
    "    urcrnrlon=max(ride_longitudes) + 0.02, \n",
    "    urcrnrlat=max(ride_latitudes) + 0.02,\n",
    "    epsg=23095,\n",
    ")\n",
    "\n",
    "m.arcgisimage(service=\"World_Imagery\", verbose=True)\n",
    "x, y = m(ride_longitudes, ride_latitudes)\n",
    "m.plot(x, y, 'r-')\n",
    "\n",
    "plt.show()"
   ]
  },
  {
   "cell_type": "code",
   "execution_count": null,
   "metadata": {},
   "outputs": [],
   "source": []
  }
 ],
 "metadata": {
  "kernelspec": {
   "display_name": "Strava-analysis",
   "language": "python",
   "name": "strava-analysis"
  },
  "language_info": {
   "codemirror_mode": {
    "name": "ipython",
    "version": 3
   },
   "file_extension": ".py",
   "mimetype": "text/x-python",
   "name": "python",
   "nbconvert_exporter": "python",
   "pygments_lexer": "ipython3",
   "version": "3.8.5"
  }
 },
 "nbformat": 4,
 "nbformat_minor": 4
}

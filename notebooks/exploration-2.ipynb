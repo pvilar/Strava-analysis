{
 "cells": [
  {
   "cell_type": "code",
   "execution_count": null,
   "metadata": {},
   "outputs": [],
   "source": [
    "import os\n",
    "import requests\n",
    "import json\n",
    "import time\n",
    "import re\n",
    "\n",
    "import pandas as pd\n",
    "import polyline\n",
    "import matplotlib.pyplot as plt"
   ]
  },
  {
   "cell_type": "code",
   "execution_count": null,
   "metadata": {},
   "outputs": [],
   "source": [
    "TOKENS_FILEPATH = os.getenv(\"TOKENS_FILEPATH\")\n",
    "CLIENT_ID = os.getenv(\"CLIENT_ID\")\n",
    "CLIENT_SECRET = os.getenv(\"CLIENT_SECRET\")"
   ]
  },
  {
   "cell_type": "code",
   "execution_count": null,
   "metadata": {},
   "outputs": [],
   "source": [
    "def get_tokens(client_id, client_secret, tokens_filepath):\n",
    "    \"\"\" Gets the Strava tokens from a json file and refreshes them if expired \"\"\"\n",
    "\n",
    "    # Get the tokens from file to connect to Strava\n",
    "    with open(tokens_filepath) as json_file:\n",
    "        strava_tokens = json.load(json_file)\n",
    "\n",
    "    # If access_token has expired then use the refresh_token to get the new access_token\n",
    "    if strava_tokens['expires_at'] < time.time():\n",
    "\n",
    "        # Make Strava auth API call with current refresh token\n",
    "        response = requests.post(\n",
    "            url='https://www.strava.com/oauth/token',\n",
    "            data={\n",
    "                'client_id': int(client_id),\n",
    "                'client_secret': client_secret,\n",
    "                'grant_type': 'refresh_token',\n",
    "                'refresh_token': strava_tokens['refresh_token']\n",
    "            }\n",
    "        )\n",
    "\n",
    "        # Save response as json in new variable\n",
    "        new_strava_tokens = response.json()\n",
    "\n",
    "        # Save new tokens to file\n",
    "        with open(tokens_filepath, 'w') as outfile:\n",
    "            json.dump(new_strava_tokens, outfile)\n",
    "\n",
    "        # Use new Strava tokens from now\n",
    "        strava_tokens = new_strava_tokens\n",
    "\n",
    "    return strava_tokens"
   ]
  },
  {
   "cell_type": "code",
   "execution_count": null,
   "metadata": {},
   "outputs": [],
   "source": [
    "strava_tokens = get_tokens(CLIENT_ID, CLIENT_SECRET, TOKENS_FILEPATH)"
   ]
  },
  {
   "cell_type": "code",
   "execution_count": null,
   "metadata": {},
   "outputs": [],
   "source": [
    "def plot_polyline(summary_polyline):\n",
    "    \"\"\" Plots a segment or a route from a polyline object \"\"\"\n",
    "\n",
    "    coordinates = polyline.decode(summary_polyline)\n",
    "\n",
    "    ride_longitudes = [coordinate[1] for coordinate in coordinates]\n",
    "    ride_latitudes = [coordinate[0] for coordinate in coordinates]\n",
    "\n",
    "    plt.plot(ride_longitudes, ride_latitudes, 'r-', alpha=1)\n",
    "    plt.show()"
   ]
  },
  {
   "cell_type": "code",
   "execution_count": null,
   "metadata": {
    "scrolled": true
   },
   "outputs": [],
   "source": [
    "# Loop through all activities (first page)\n",
    "url = \"https://www.strava.com/api/v3/activities\"\n",
    "access_token = strava_tokens['access_token']\n",
    "# Get first page of activities from Strava with all fields\n",
    "r = requests.get(url + '?access_token=' + access_token)\n",
    "r = r.json()\n",
    "    \n",
    "df = pd.json_normalize(r)"
   ]
  },
  {
   "cell_type": "code",
   "execution_count": null,
   "metadata": {},
   "outputs": [],
   "source": [
    "# Get Activity info\n",
    "#athlete_id = strava_tokens['athlete']['id']\n",
    "#url = \"https://www.strava.com/api/v3/athletes/{}/routes\".format(athlete_id)\n",
    "url = \"https://www.strava.com/api/v3/activities/4074378152\"\n",
    "access_token = strava_tokens['access_token']\n",
    "\n",
    "# Get first page of activities from Strava with all fields\n",
    "r = requests.get(url + '?access_token=' + access_token)\n",
    "r = r.json()\n",
    "\n",
    "summary_polyline_route = r['map']['summary_polyline']\n",
    "plot_polyline(summary_polyline_route)\n",
    "\n",
    "df_segments = pd.json_normalize(r['segment_efforts'])"
   ]
  },
  {
   "cell_type": "code",
   "execution_count": null,
   "metadata": {},
   "outputs": [],
   "source": [
    "r"
   ]
  },
  {
   "cell_type": "code",
   "execution_count": null,
   "metadata": {},
   "outputs": [],
   "source": [
    "r['message']"
   ]
  },
  {
   "cell_type": "code",
   "execution_count": null,
   "metadata": {},
   "outputs": [],
   "source": [
    "if \"segment_efforts\" in r:\n",
    "    print(\"Loading segments from activity\")\n",
    "    \n",
    "elif \"message\" in r:\n",
    "    print(r['message'])\n",
    "\n",
    "else:\n",
    "    print(\"Unknown error\")"
   ]
  },
  {
   "cell_type": "code",
   "execution_count": null,
   "metadata": {},
   "outputs": [],
   "source": [
    "df_segments"
   ]
  },
  {
   "cell_type": "code",
   "execution_count": null,
   "metadata": {},
   "outputs": [],
   "source": [
    "df_segments.loc[0]"
   ]
  },
  {
   "cell_type": "code",
   "execution_count": null,
   "metadata": {},
   "outputs": [],
   "source": [
    "# get how many segments in activity\n",
    "df_segments.shape"
   ]
  },
  {
   "cell_type": "code",
   "execution_count": null,
   "metadata": {},
   "outputs": [],
   "source": [
    "def calculate_time_difference_from_leader(segment_id, athlete_elapsed_time,\n",
    "                                          gender, strava_tokens):\n",
    "    \"\"\"\n",
    "    Gets the time of the segment's leader in seconds and calculates \n",
    "    the percent difference from the anthlete time\n",
    "    \"\"\"\n",
    "    def get_sec(time_str):\n",
    "        \"\"\" Get Seconds from time \"\"\"\n",
    "\n",
    "        if time_str.find(\"s\") == -1:\n",
    "            try:\n",
    "                h, m, s = time_str.split(':')\n",
    "                return int(h) * 3600 + int(m) * 60 + int(s)\n",
    "            except ValueError:\n",
    "                m, s = time_str.split(':')\n",
    "                return int(m) * 60 + int(s)\n",
    "        else:\n",
    "            return [int(s) for s in re.findall(r'-?\\d+\\.?\\d*', time_str)][0]\n",
    "\n",
    "    url = \"https://www.strava.com/api/v3/segments/{}\".format(segment_id)\n",
    "    access_token = strava_tokens['access_token']\n",
    "\n",
    "    # Get first page of activities from Strava with all fields\n",
    "    r = requests.get(url + '?access_token=' + access_token)\n",
    "    r = r.json()\n",
    "\n",
    "    # get leader time\n",
    "    leader_elapsed_time = get_sec(\n",
    "        r['xoms']['qom']) if gender == 'women' else get_sec(r['xoms']['kom'])\n",
    "\n",
    "    return athlete_elapsed_time / leader_elapsed_time - 1"
   ]
  },
  {
   "cell_type": "code",
   "execution_count": null,
   "metadata": {},
   "outputs": [],
   "source": [
    "%%time\n",
    "df_segments[\"segment_time_delta\"] = df_segments.apply(\n",
    "    lambda x: calculate_time_difference_from_leader(x[\"segment.id\"],\n",
    "                                                    x[\"elapsed_time\"],\n",
    "                                                    gender=\"man\",\n",
    "                                                    strava_tokens=strava_tokens\n",
    "                                                    ),\n",
    "    axis=1)"
   ]
  },
  {
   "cell_type": "code",
   "execution_count": null,
   "metadata": {},
   "outputs": [],
   "source": [
    "df_segments.sort_values(by=['segment_time_delta'], inplace=True)"
   ]
  },
  {
   "cell_type": "code",
   "execution_count": null,
   "metadata": {},
   "outputs": [],
   "source": [
    "df_segments"
   ]
  },
  {
   "cell_type": "code",
   "execution_count": null,
   "metadata": {},
   "outputs": [],
   "source": [
    "activity_id = '4074378152'\n",
    "segment_id = df_segments['id'][0]\n",
    "url_segment = 'https://www.strava.com/activities/{}/segments/2741743541458943054'.format(\n",
    "    activity_id, segment_id)"
   ]
  },
  {
   "cell_type": "code",
   "execution_count": null,
   "metadata": {},
   "outputs": [],
   "source": [
    "import webbrowser\n",
    "\n",
    "webbrowser.open(url_segment)"
   ]
  },
  {
   "cell_type": "code",
   "execution_count": null,
   "metadata": {},
   "outputs": [],
   "source": []
  },
  {
   "cell_type": "markdown",
   "metadata": {},
   "source": [
    "Ideas:\n",
    " * plot map with segments coloured by proximity to KOM (interactive map?)\n",
    " * create app where to select activity to get the segments analysis. Be able to plot the segment or open it in the browser\n",
    " * create REST API Flask\n",
    " * ref for plotting segment_polylines https://knanne.github.io/notebooks/visualize_strava_data_in_python.html#Geographic-Data"
   ]
  },
  {
   "cell_type": "code",
   "execution_count": null,
   "metadata": {},
   "outputs": [],
   "source": []
  },
  {
   "cell_type": "code",
   "execution_count": null,
   "metadata": {},
   "outputs": [],
   "source": []
  },
  {
   "cell_type": "code",
   "execution_count": null,
   "metadata": {},
   "outputs": [],
   "source": []
  },
  {
   "cell_type": "code",
   "execution_count": null,
   "metadata": {},
   "outputs": [],
   "source": []
  },
  {
   "cell_type": "code",
   "execution_count": null,
   "metadata": {},
   "outputs": [],
   "source": []
  },
  {
   "cell_type": "code",
   "execution_count": null,
   "metadata": {},
   "outputs": [],
   "source": [
    "#!pipenv install git+https://github.com/matplotlib/basemap.git"
   ]
  },
  {
   "cell_type": "code",
   "execution_count": null,
   "metadata": {},
   "outputs": [],
   "source": [
    "# previous step:\n",
    "# $ brew install geos\n",
    "# !pipenv install https://github.com/matplotlib/basemap/archive/master.zip"
   ]
  },
  {
   "cell_type": "code",
   "execution_count": null,
   "metadata": {},
   "outputs": [],
   "source": [
    "from mpl_toolkits.basemap import Basemap\n",
    "import matplotlib.pyplot as plt\n",
    "\n",
    "map = Basemap(llcrnrlon=3.75,llcrnrlat=39.75,urcrnrlon=4.35,urcrnrlat=40.15, epsg=5520)\n",
    "#http://server.arcgisonline.com/arcgis/rest/services\n",
    "\n",
    "map.arcgisimage(service='ESRI_Imagery_World_2D', xpixels = 1500, verbose= True)\n",
    "plt.show()"
   ]
  },
  {
   "cell_type": "code",
   "execution_count": null,
   "metadata": {},
   "outputs": [],
   "source": [
    "# opens a map in a new window\n",
    "import requests\n",
    "from PIL import Image\n",
    "url ='http://server.arcgisonline.com/ArcGIS/rest/services/ESRI_Imagery_World_2D/MapServer/export?bbox=1564270.9620172689,4401598.726055895,1615017.0560379555,4446612.184939481&bboxSR=5520&imageSR=5520&size=1500,1330&dpi=96&format=png32&transparent=true&f=image'\n",
    "im = Image.open(requests.get(url, stream=True).raw)\n",
    "im.show()"
   ]
  },
  {
   "cell_type": "code",
   "execution_count": null,
   "metadata": {},
   "outputs": [],
   "source": [
    "import polyline\n",
    "import matplotlib.pyplot as plt\n",
    "\n",
    "from mpl_toolkits.basemap import Basemap\n",
    "\n",
    "#summary_polyline = \"ij_}Hyjd^dB_Gp@aAn@[F[{BwQpA?p@v@rCQf@m@_@iTSaAe\\\\cEWVKt@yANs@jCkAfB_JhIdEpP|ApD|BfDl@`DcEvCwEbCcHtKiGnLmKnOcClF{HxLoBrBgG~DmAnBy@pCYxBi@xIHlBu@xH{@tPu@fRLpIS~Eo@lC_HtOuJ|LwOrH{FrH}BdEoChBeBt@{HpBwBpBqA|Ba@K{DeGkKnQc@WkEwGsG~Aj@rBjBjWOhA}AtEc@`Ge\\\\rZyCbH{@|@Ij@r@hA|BxURf@E`@qJzQy_@fz@uGtG{Cy@}GxAyCrCqAfC{AfHmC|SQtEdAxHpBvGv@`EDbFm@pDo@r@sAl@qGc@}ALgJzIkGhNcDzOkBvHsCpD{EvCaGfBqWtC_FpB_F`FeOdV_HtEsJL{JeCqFaC}D}DkH{FyRiD_B}@cC`@{CyAeC`@}RrK_ErAcDnBuFJmBk@sA{@kAoBgD}Iw@_DK}DnAcBUsCTcIIsDkAkGu@eAiCiGyOoSoE{DqImDqE|@aG{AaH}CwDaD_DmFkCgMgB_GeEyFkV_LgE_AaI{BuARoDrBy@z@_BfDSBqCkLoBwFmBsBmDoAgCIkCxB}CtAsI?iFq@{B^cAYsAoBIcDcBkO}A{BuKcd@{Sq`AmAkH_@aFKuN^gFxAyHtPyj@fBcE|E}OzWk}@~CiHXgE`BoIv@wGj]_jE`AgBtAd@j_@j^bRdNn@|Ab@lFp@rAvJ|GxBr@^l@\\\\ANm@M_FJgu@l@mI`AsHfEeU`BsEjFcKxKoM|FwE~CcB`Cl@|DfH|CjGrInS`EzLnEjSrNb~@hHjc@jBnRzFv~@fCjf@jAn\\\\N|Ge@r}@L|Fj@t@tAXxPhBdeAkG`Du@M{DmHog@u@gDDiA`^cSdWmP|[e\\\\fDaE|HaGxB{D|FeO?e@_@u@sZue@YcBxOyl@nFiVtGqVnTir@r@gBd@e@VuCxCkJIgEfGyiAdAwZe@w@kQ{LYy@zDyWvDoRd@_A~zAfq@|q@l_@l@FnBaBfBe@fVvL`AxAt@tB^kEnBKlBf@~AhAr@`Av@zBtEeBfAyElAg@hGnA`B|@jBnBp@`AXbAAzDr@fCC`D`@lG\\\\NXfC`C`Fl@rBtGnc@Et@cA`Bn@`CyApDxBzD~@lCvCvBtEj]xBpKGp@aFnJ?b@~GpXdBdE~BnD|AxHxC~Dr@ItEdAzB_@\"\n",
    "summary_polyline = '_fq~Hy`d]f@qa@DkEHyClAyz@PoKRcBl@mBzCsI'\n",
    "\n",
    "coordinates = polyline.decode(summary_polyline)\n",
    "\n",
    "ride_longitudes = [coordinate[1] for coordinate in coordinates]\n",
    "ride_latitudes = [coordinate[0] for coordinate in coordinates]\n",
    "\n",
    "m = Basemap(\n",
    "    llcrnrlon=min(ride_longitudes) - 0.02,\n",
    "    llcrnrlat=min(ride_latitudes) - 0.02,\n",
    "    urcrnrlon=max(ride_longitudes) + 0.02, \n",
    "    urcrnrlat=max(ride_latitudes) + 0.02,\n",
    "    epsg=23095,\n",
    ")\n",
    "\n",
    "m.arcgisimage(service=\"World_Imagery\", verbose=True)\n",
    "x, y = m(ride_longitudes, ride_latitudes)\n",
    "m.plot(x, y, 'r-')\n",
    "\n",
    "plt.show()"
   ]
  },
  {
   "cell_type": "code",
   "execution_count": null,
   "metadata": {},
   "outputs": [],
   "source": []
  }
 ],
 "metadata": {
  "hide_input": false,
  "kernelspec": {
   "display_name": "Strava-analysis",
   "language": "python",
   "name": "strava-analysis"
  },
  "language_info": {
   "codemirror_mode": {
    "name": "ipython",
    "version": 3
   },
   "file_extension": ".py",
   "mimetype": "text/x-python",
   "name": "python",
   "nbconvert_exporter": "python",
   "pygments_lexer": "ipython3",
   "version": "3.8.6"
  }
 },
 "nbformat": 4,
 "nbformat_minor": 4
}
